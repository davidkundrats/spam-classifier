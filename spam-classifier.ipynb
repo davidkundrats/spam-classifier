{
 "cells": [
  {
   "cell_type": "code",
   "execution_count": 1,
   "id": "fc265e36",
   "metadata": {},
   "outputs": [],
   "source": [
    "import os \n",
    "import pandas as pd"
   ]
  },
  {
   "cell_type": "code",
   "execution_count": 3,
   "id": "3b3713ca",
   "metadata": {},
   "outputs": [],
   "source": [
    "data_path = \"dataset/enron1\""
   ]
  },
  {
   "cell_type": "code",
   "execution_count": 4,
   "id": "38116d9b",
   "metadata": {},
   "outputs": [],
   "source": [
    "ham = []\n",
    "spam = []"
   ]
  },
  {
   "cell_type": "code",
   "execution_count": 6,
   "id": "3071e628",
   "metadata": {},
   "outputs": [],
   "source": [
    "for root, dirs, files in os.walk(data_path):\n",
    "    #in subdirectory\n",
    "    for file in files:\n",
    "        with open(os.path.join(root, file), 'r', encoding='latin1') as f:\n",
    "            content = f.read()\n",
    "            #if in ham, append ham \n",
    "            if 'ham' in root:\n",
    "                ham.append({'filename': file, 'content': content, 'label': 'ham'})\n",
    "            #if in spam, append spam\n",
    "            elif 'spam' in root:\n",
    "                spam.append({'filename': file, 'content': content, 'label': 'spam'})\n"
   ]
  },
  {
   "cell_type": "code",
   "execution_count": 18,
   "id": "01ddcb4f",
   "metadata": {},
   "outputs": [],
   "source": [
    "ham_df = pd.DataFrame(ham)\n",
    "spam_df = pd.DataFrame(spam)\n",
    "df = pd.concat([ham_df, spam_df], ignore_index = True)"
   ]
  },
  {
   "cell_type": "code",
   "execution_count": 19,
   "id": "7552d3f2",
   "metadata": {},
   "outputs": [
    {
     "name": "stdout",
     "output_type": "stream",
     "text": [
      "<bound method NDFrame.head of                             filename  \\\n",
      "0     1365.2000-06-16.farmer.ham.txt   \n",
      "1     3560.2001-02-09.farmer.ham.txt   \n",
      "2     0877.2000-04-06.farmer.ham.txt   \n",
      "3     2937.2000-11-27.farmer.ham.txt   \n",
      "4     1270.2000-06-07.farmer.ham.txt   \n",
      "...                              ...   \n",
      "5167     1505.2004-07-09.GP.spam.txt   \n",
      "5168     2148.2004-09-13.GP.spam.txt   \n",
      "5169     2406.2004-10-06.GP.spam.txt   \n",
      "5170     1459.2004-06-30.GP.spam.txt   \n",
      "5171     2030.2004-08-30.GP.spam.txt   \n",
      "\n",
      "                                                content label  \n",
      "0     Subject: revised sea robin availabilities effe...   ham  \n",
      "1     Subject: re : january spot purchases - deals n...   ham  \n",
      "2     Subject: re : buyback / deficiency deals works...   ham  \n",
      "3     Subject: king ranch processed volumes at tailg...   ham  \n",
      "4     Subject: confirming requisitions\\nconfirming t...   ham  \n",
      "...                                                 ...   ...  \n",
      "5167  Subject: what she doesnt know sprig bashaw\\ndi...  spam  \n",
      "5168  Subject: want to lose up to 19 % weight . try ...  spam  \n",
      "5169  Subject: buy cheap viagra through us .\\nhi ,\\n...  spam  \n",
      "5170  Subject: viewsonic airpanel vl 50 15 - inch sm...  spam  \n",
      "5171  Subject: entourage , stockmogul newsletter\\nra...  spam  \n",
      "\n",
      "[5172 rows x 3 columns]>\n"
     ]
    }
   ],
   "source": [
    "print(df.head)"
   ]
  },
  {
   "cell_type": "code",
   "execution_count": null,
   "id": "38676670",
   "metadata": {},
   "outputs": [],
   "source": []
  }
 ],
 "metadata": {
  "kernelspec": {
   "display_name": "Python 3 (ipykernel)",
   "language": "python",
   "name": "python3"
  },
  "language_info": {
   "codemirror_mode": {
    "name": "ipython",
    "version": 3
   },
   "file_extension": ".py",
   "mimetype": "text/x-python",
   "name": "python",
   "nbconvert_exporter": "python",
   "pygments_lexer": "ipython3",
   "version": "3.11.5"
  }
 },
 "nbformat": 4,
 "nbformat_minor": 5
}
